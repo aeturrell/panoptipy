{
 "cells": [
  {
   "cell_type": "markdown",
   "metadata": {},
   "source": [
    "---\n",
    "execute:\n",
    "  echo: false\n",
    "---\n",
    "\n",
    "# panoptipy\n",
    "\n",
    "> ⚠️ Under development; use not currently recommended\n",
    "\n",
    "\n",
    "A Package for the Static Code Quality Assessment of Python codebases. It scans local codebases or remote GitHub repositories and generates a report summarising various code quality metrics.\n",
    "\n",
    "![SVG logo of panoptipy](logo.svg){width=10%}"
   ]
  },
  {
   "cell_type": "markdown",
   "metadata": {},
   "source": [
    "[![PyPI](https://img.shields.io/pypi/v/panoptipy.svg)](https://pypi.org/project/panoptipy/)\n",
    "[![Status](https://img.shields.io/pypi/status/panoptipy.svg)](https://pypi.org/project/panoptipy/)\n",
    "[![Python Version](https://img.shields.io/pypi/pyversions/panoptipy)](https://pypi.org/project/panoptipy)\n",
    "[![License](https://img.shields.io/pypi/l/panoptipy)](https://opensource.org/licenses/MIT)\n",
    "[![Read the documentation at https://aeturrell.github.io/panoptipy/](https://img.shields.io/badge/Go%20to%20the%20docs-purple?style=flat)](https://aeturrell.github.io/panoptipy/)\n",
    "[![Tests](https://github.com/aeturrell/panoptipy/workflows/Tests/badge.svg)](https://github.com/aeturrell/panoptipy/actions?workflow=Tests)\n",
    "[![Codecov](https://codecov.io/gh/aeturrell/panoptipy/branch/main/graph/badge.svg)](https://codecov.io/gh/aeturrell/panoptipy)\n",
    "[![pre-commit](https://img.shields.io/badge/pre--commit-enabled-brightgreen?logo=pre-commit&logoColor=white)](https://github.com/pre-commit/pre-commit)\n",
    "[![Ruff](https://img.shields.io/endpoint?url=https://raw.githubusercontent.com/astral-sh/ruff/main/assets/badge/v2.json)](https://github.com/astral-sh/ruff)\n",
    "[![Downloads](https://static.pepy.tech/badge/panoptipy)](https://pepy.tech/projects/panoptipy)\n",
    "[![Source](https://img.shields.io/badge/source%20code-github-lightgrey?style=for-the-badge)](https://github.com/aeturrell/panoptipy)\n",
    "\n",
    "![Linux](https://img.shields.io/badge/Linux-FCC624?style=for-the-badge&logo=linux&logoColor=black)\n",
    "![macOS](https://img.shields.io/badge/mac%20os-000000?style=for-the-badge&logo=macos&logoColor=F0F0F0)\n",
    "![Windows](https://img.shields.io/badge/Windows-0078D6?style=for-the-badge&logo=windows&logoColor=white)\n"
   ]
  },
  {
   "cell_type": "markdown",
   "metadata": {},
   "source": [
    "## Quickstart\n",
    "\n",
    "The main way to use **panoptipy** is through its command-line interface. Here's how to scan a Python codebase that is in the \"project\" directory:\n",
    "\n",
    "```bash\n",
    "# Basic scan with default settings\n",
    "$ panoptipy scan /path/to/project\n",
    "```\n",
    "\n",
    "To run on multiple directories, you can specify them as a space-separated list:\n",
    "\n",
    "```bash\n",
    "# Scan multiple directories\n",
    "$ panoptipy scan /path/to/project1 /path/to/project2\n",
    "```\n",
    "\n",
    "You can also use wildcards to specify directories:\n",
    "\n",
    "```bash\n",
    "# Scan all directories in the current directory\n",
    "$ panoptipy scan ./*\n",
    "```\n",
    "\n",
    "Using the `scan` command in this way will:\n",
    "\n",
    "- Load *all* configured checks (there's a list below)\n",
    "- Analyse your codebase\n",
    "- Generate a report with the results\n",
    "- Output the report to the console (by default)\n",
    "\n",
    "The scan report shows:\n",
    "\n",
    "- Overall codebase rating (Gold, Silver, Bronze, or Problematic)\n",
    "- A summary of whether each individual check passed or not\n",
    "- Detailed information about any failures"
   ]
  },
  {
   "cell_type": "markdown",
   "metadata": {},
   "source": [
    "## What is **panoptipy** for?\n",
    "\n",
    "There is a lot of overlap between **panoptipy** and **pre-commit** (with the relevant hooks). So what are the differences?\n",
    "\n",
    "- **pre-commit** is meant to be used by developers to check their own code before they commit it or in Continuous Integration (CI) / Continous Deployment (CD) pipelines.\n",
    "- **panoptipy** has features that help the leaders and managers of other developers. To that end it can summarise the results of many code repos at once, eg:\n",
    "  - all those written by a (GitHub) team\n",
    "  - all those by a specific (GitHub) user\n",
    "- **panoptipy** can be be used to generate and export reports in a variety of formats (JSON, parquet) for further analysis.\n",
    "\n",
    "These packages are similar in that they can both be used in CI/CD pipelines but **pre-commit** should be your first port of call for that and is not only more geared to that use, but also *far* more mature."
   ]
  },
  {
   "cell_type": "markdown",
   "metadata": {},
   "source": [
    "## Installation\n",
    "\n",
    "You can use **panoptipy** as a stand-alone tool via [Astral's uv](https://docs.astral.sh/uv/) package:\n",
    "\n",
    "```bash\n",
    "uvx panoptipy scan .\n",
    "```\n",
    "\n",
    "Alternatively, you can install it as a Python package with `pip install` or `uv add`.\n",
    "\n",
    "To install the development version from git, use:\n",
    "\n",
    "```bash\n",
    "pip install git+https://github.com/aeturrell/panoptipy.git\n",
    "```\n",
    "\n",
    "## Documentation\n",
    "\n",
    "You can find the full documentation for **panoptipy** at [https://aeturrell.github.io/panoptipy/](https://aeturrell.github.io/panoptipy/)."
   ]
  },
  {
   "cell_type": "markdown",
   "metadata": {},
   "source": [
    "## GitHub integration\n",
    "\n",
    "**panoptipy** can be used to scan multiple GitHub repositories. This is useful for people or organisations that want to assess the quality of their codebases.\n",
    "\n",
    "Note that, even for scanning public repos, you will need a GitHub token. You can find out more about authenticating with the GitHub GraphQL API [here](https://docs.github.com/en/graphql/guides/forming-calls-with-graphql).\n",
    "\n",
    "The two commands that run against multiple GitHub repositories are `scan-user` and `scan-team`.\n",
    "\n",
    "Here's how to use them:\n",
    "\n",
    "```bash\n",
    "# Scan all repos by a given GitHub user\n",
    "panoptipy scan-user USERNAME --token YOUR_GITHUB_TOKEN\n",
    "```\n",
    "\n",
    "```bash\n",
    "# Scan all repos by a given GitHub team\n",
    "panoptipy scan-team ORGANISATION_NAME TEAM_NAME --token YOUR_GITHUB_TOKEN\n",
    "```\n",
    "\n",
    "You can also limit the repositories that are scanned by using the `--max-repos` option. This is useful if you want to test the tool on a small number of repositories before running it on all of them.\n",
    "\n",
    "```bash\n",
    "# Scan all repos by a given GitHub user but limit to only retrieving the fist 5 repos\n",
    "panoptipy scan-user USERNAME --max-repos 5 --token YOUR_GITHUB_TOKEN\n",
    "```\n"
   ]
  },
  {
   "cell_type": "markdown",
   "metadata": {},
   "source": [
    "## Options\n",
    "\n",
    "### Configuration\n",
    "\n",
    "```bash\n",
    "# Scan with custom configuration file\n",
    "panoptipy scan /path/to/project --config path/to/config.toml\n",
    "```\n",
    "\n",
    "If you wish to configure *panoptipy* to your needs, you can do so by passing a TOML file with the `--config` option. Here's an example of a configuration file in TOML:\n",
    "\n",
    "```toml\n",
    "[tool.panoptipy]\n",
    "checks = { enabled = [\"large_files\", \"ruff_linting\"], disabled = [], critical = [\"ruff_linting\"] }\n",
    "\n",
    "[tool.panoptipy.thresholds]\n",
    "max_file_size = 1000\n",
    "```\n",
    "\n",
    "Note that *critical checks* are ones that cause CI/CD pipelines to fail. The CLI will:\n",
    "\n",
    "- Exit with code 1 if any critical checks failed\n",
    "- Exit with code 0 if no critical checks failed\n",
    "\n",
    "### Command line output options\n",
    "\n",
    "Although the default output is to the console, you can also specify some other options. The currently supported output formats are:\n"
   ]
  },
  {
   "cell_type": "code",
   "execution_count": null,
   "metadata": {},
   "outputs": [],
   "source": [
    "from typing import get_args\n",
    "\n",
    "import panoptipy.reporters as rep\n",
    "\n",
    "print([x for x in get_args(rep.ReporterFormat)])"
   ]
  },
  {
   "cell_type": "markdown",
   "metadata": {},
   "source": [
    "For example, to use the `json` format, you can run:\n",
    "\n",
    "```bash\n",
    "panoptipy scan /path/to/project --format json\n",
    "```\n",
    "\n",
    "Or for `parquet`, you can run:\n",
    "\n",
    "```bash\n",
    "panoptipy scan /path/to/project --format parquet --output /path/to/output.parquet\n",
    "```\n",
    "\n",
    "Note that while the `--output` argument is optional for `json`, it is required for `parquet`."
   ]
  },
  {
   "cell_type": "markdown",
   "metadata": {},
   "source": [
    "## Example Use on This Repo\n",
    "\n",
    "```bash\n",
    "panoptipy scan .\n",
    "```"
   ]
  },
  {
   "cell_type": "code",
   "execution_count": null,
   "metadata": {},
   "outputs": [],
   "source": [
    "!panoptipy scan ../"
   ]
  },
  {
   "cell_type": "markdown",
   "metadata": {},
   "source": [
    "## Checks\n",
    "\n",
    "There are several different available checks that can be run. These are:"
   ]
  },
  {
   "cell_type": "code",
   "execution_count": null,
   "metadata": {},
   "outputs": [],
   "source": [
    "import pandas as pd\n",
    "from great_tables import GT\n",
    "\n",
    "from panoptipy import meta\n",
    "\n",
    "GT(pd.DataFrame(meta.get_check_id_and_description_pairs()))"
   ]
  },
  {
   "cell_type": "markdown",
   "metadata": {},
   "source": [
    "You can find more information about each check in the [reference documentation](https://aeturrell.github.io/panoptipy/reference)."
   ]
  },
  {
   "cell_type": "markdown",
   "metadata": {},
   "source": [
    "## Requirements\n",
    "\n",
    "You can find a full list of requirements in the [pyproject.toml](https://github.com/aeturrell/panoptipy/blob/main/pyproject.toml) file."
   ]
  },
  {
   "cell_type": "markdown",
   "metadata": {},
   "source": [
    "## License\n",
    "\n",
    "Distributed under the terms of the [MIT license](https://opensource.org/licenses/MIT), *panoptipy* is free and open source software.\n",
    "\n",
    "## Issues\n",
    "\n",
    "If you encounter any problems, please [file an issue](https://github.com/aeturrell/panoptipy/issues) along with a detailed description."
   ]
  }
 ],
 "metadata": {
  "kernelspec": {
   "display_name": ".venv",
   "language": "python",
   "name": "python3"
  },
  "language_info": {
   "codemirror_mode": {
    "name": "ipython",
    "version": 3
   },
   "file_extension": ".py",
   "mimetype": "text/x-python",
   "name": "python",
   "nbconvert_exporter": "python",
   "pygments_lexer": "ipython3",
   "version": "3.12.0"
  }
 },
 "nbformat": 4,
 "nbformat_minor": 4
}
