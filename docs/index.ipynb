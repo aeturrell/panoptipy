{
 "cells": [
  {
   "cell_type": "markdown",
   "metadata": {},
   "source": [
    "---\n",
    "execute:\n",
    "  echo: false\n",
    "---\n",
    "\n",
    "# panoptipy\n",
    "\n",
    "> ⚠️ Under development; use not currently recommended\n",
    "\n",
    "\n",
    "A Python Package for Static Code Quality Assessment. Use it to analyse your repos and assess their quality.\n",
    "\n",
    "![](logo.svg){width=10%}"
   ]
  },
  {
   "cell_type": "markdown",
   "metadata": {},
   "source": [
    "[![PyPI](https://img.shields.io/pypi/v/panoptipy.svg)](https://pypi.org/project/panoptipy/)\n",
    "[![Status](https://img.shields.io/pypi/status/panoptipy.svg)](https://pypi.org/project/panoptipy/)\n",
    "[![Python Version](https://img.shields.io/pypi/pyversions/panoptipy)](https://pypi.org/project/panoptipy)\n",
    "[![License](https://img.shields.io/pypi/l/panoptipy)](https://opensource.org/licenses/MIT)\n",
    "[![Read the documentation at https://aeturrell.github.io/panoptipy/](https://img.shields.io/badge/Go%20to%20the%20docs-purple?style=flat)](https://aeturrell.github.io/panoptipy/)\n",
    "[![Tests](https://github.com/aeturrell/panoptipy/workflows/Tests/badge.svg)](https://github.com/aeturrell/panoptipy/actions?workflow=Tests)\n",
    "[![Codecov](https://codecov.io/gh/aeturrell/panoptipy/branch/main/graph/badge.svg)](https://codecov.io/gh/aeturrell/panoptipy)\n",
    "[![pre-commit](https://img.shields.io/badge/pre--commit-enabled-brightgreen?logo=pre-commit&logoColor=white)](https://github.com/pre-commit/pre-commit)\n",
    "[![Ruff](https://img.shields.io/endpoint?url=https://raw.githubusercontent.com/astral-sh/ruff/main/assets/badge/v2.json)](https://github.com/astral-sh/ruff)\n",
    "[![Downloads](https://static.pepy.tech/badge/panoptipy)](https://pepy.tech/projects/panoptipy)\n",
    "[![Source](https://img.shields.io/badge/source%20code-github-lightgrey?style=for-the-badge)](https://github.com/aeturrell/panoptipy)\n",
    "\n",
    "![Linux](https://img.shields.io/badge/Linux-FCC624?style=for-the-badge&logo=linux&logoColor=black)\n",
    "![macOS](https://img.shields.io/badge/mac%20os-000000?style=for-the-badge&logo=macos&logoColor=F0F0F0)\n",
    "![Windows](https://img.shields.io/badge/Windows-0078D6?style=for-the-badge&logo=windows&logoColor=white)\n",
    "\n"
   ]
  },
  {
   "cell_type": "markdown",
   "metadata": {},
   "source": [
    "## Quickstart\n",
    "\n",
    "The main way to use **panoptipy** is through its command-line interface. Here's how to scan a Python git repository that is in the \"project\" directory:\n",
    "\n",
    "```bash\n",
    "# Basic scan with default settings\n",
    "$ panoptipy scan /path/to/project\n",
    "\n",
    "# Scan with custom configuration file\n",
    "$ panoptipy scan /path/to/project --config path/to/config.toml\n",
    "\n",
    "# Scan with different output format\n",
    "$ panoptipy scan /path/to/project --format json\n",
    "```\n",
    "\n",
    "The scan command will:\n",
    "\n",
    "- Load all configured checks\n",
    "- Analyse your codebase\n",
    "- Generate a report with the results\n",
    "\n",
    "If you wish to configure *panoptipy* to your needs, you can do so by either creating a specific configuration file with the `--config` option or by adding the following to your `pyproject.toml` file:\n",
    "\n",
    "```toml\n",
    "[tool.panoptipy]\n",
    "checks = { enabled = [\"large_files\"], disabled = [], critical = [\"ruff_linting\"] }\n",
    "\n",
    "[tool.panoptipy.thresholds]\n",
    "max_file_size = 1000\n",
    "```\n",
    "\n",
    "Note that if you specify no check IDs, no checks at all will be run.\n",
    "\n",
    "What does a \"critical\" check mean? The CLI will:\n",
    "- Exit with code 1 if any critical checks failed\n",
    "- Exit with code 0 if no critical checks failed\n",
    "\n",
    "The scan will produce a report that shows:\n",
    "\n",
    "- Overall codebase rating (Gold, Silver, Bronze, or Problematic)\n",
    "- A summary of whether each individual check passed or not\n",
    "- Detailed information about any failures\n"
   ]
  },
  {
   "cell_type": "markdown",
   "metadata": {},
   "source": [
    "## Example Use on This Repo!\n",
    "\n",
    "```bash\n",
    "panoptipy scan .\n",
    "```"
   ]
  },
  {
   "cell_type": "code",
   "execution_count": null,
   "metadata": {},
   "outputs": [],
   "source": [
    "!panoptipy scan ../"
   ]
  },
  {
   "cell_type": "markdown",
   "metadata": {},
   "source": [
    "## Available Checks"
   ]
  },
  {
   "cell_type": "code",
   "execution_count": null,
   "metadata": {},
   "outputs": [],
   "source": [
    "import pandas as pd\n",
    "from great_tables import GT\n",
    "from panoptipy import meta\n",
    "\n",
    "GT(pd.DataFrame(meta.get_check_id_and_description_pairs()))"
   ]
  },
  {
   "cell_type": "markdown",
   "metadata": {},
   "source": [
    "## Requirements\n",
    "\n",
    "You can find a full list of requirements in the [pyproject.toml](https://github.com/aeturrell/panoptipy/blob/main/pyproject.toml) file."
   ]
  },
  {
   "cell_type": "markdown",
   "metadata": {},
   "source": [
    "## Installation\n",
    "\n",
    "You can install the latest release of *panoptipy* via\n",
    "[pip](https://pip.pypa.io/) from [PyPI](https://pypi.org/):\n",
    "\n",
    "```bash\n",
    "$ pip install panoptipy\n",
    "```\n",
    "\n",
    "To install the development version from git, use:\n",
    "\n",
    "```bash\n",
    "$ pip install git+https://github.com/aeturrell/panoptipy.git\n",
    "```\n",
    "\n",
    "For development, see [contributing](contributing.qmd)."
   ]
  },
  {
   "cell_type": "markdown",
   "metadata": {},
   "source": [
    "## License\n",
    "\n",
    "Distributed under the terms of the [MIT license](https://opensource.org/licenses/MIT), *panoptipy* is free and open source software.\n",
    "\n",
    "## Issues\n",
    "\n",
    "If you encounter any problems, please [file an issue](https://github.com/aeturrell/panoptipy/issues) along with a detailed description."
   ]
  }
 ],
 "metadata": {
  "kernelspec": {
   "display_name": ".venv",
   "language": "python",
   "name": "python3"
  },
  "language_info": {
   "codemirror_mode": {
    "name": "ipython",
    "version": 3
   },
   "file_extension": ".py",
   "mimetype": "text/x-python",
   "name": "python",
   "nbconvert_exporter": "python",
   "pygments_lexer": "ipython3",
   "version": "3.12.0"
  }
 },
 "nbformat": 4,
 "nbformat_minor": 4
}
